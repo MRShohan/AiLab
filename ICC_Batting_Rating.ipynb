{
  "nbformat": 4,
  "nbformat_minor": 0,
  "metadata": {
    "colab": {
      "name": "ICC_Batting_Rating.ipynb",
      "provenance": [],
      "include_colab_link": true
    },
    "kernelspec": {
      "name": "python3",
      "display_name": "Python 3"
    },
    "language_info": {
      "name": "python"
    }
  },
  "cells": [
    {
      "cell_type": "markdown",
      "metadata": {
        "id": "view-in-github",
        "colab_type": "text"
      },
      "source": [
        "<a href=\"https://colab.research.google.com/github/MRShohan/AiLab/blob/main/ICC_Batting_Rating.ipynb\" target=\"_parent\"><img src=\"https://colab.research.google.com/assets/colab-badge.svg\" alt=\"Open In Colab\"/></a>"
      ]
    },
    {
      "cell_type": "markdown",
      "metadata": {
        "id": "w_WtLKlO09XA"
      },
      "source": [
        "#**Mount Drive and Read Dataset**"
      ]
    },
    {
      "cell_type": "code",
      "metadata": {
        "id": "FBOUHUZY1BsI"
      },
      "source": [
        "from google.colab import drive\n",
        "drive.mount('/content/gdrive')"
      ],
      "execution_count": null,
      "outputs": []
    },
    {
      "cell_type": "code",
      "metadata": {
        "id": "QwChs1Lj1XCe"
      },
      "source": [
        "import pandas as pd"
      ],
      "execution_count": null,
      "outputs": []
    },
    {
      "cell_type": "code",
      "metadata": {
        "id": "iajL8vE51c2F"
      },
      "source": [
        "train = pd.read_csv('gdrive/My Drive/AI lab/ICC Batsman Rating/batsmen_ratings_all091217.csv')"
      ],
      "execution_count": null,
      "outputs": []
    },
    {
      "cell_type": "markdown",
      "metadata": {
        "id": "QQqeMklq1vMB"
      },
      "source": [
        "#**Show Dataset**"
      ]
    },
    {
      "cell_type": "code",
      "metadata": {
        "id": "RGD5z9PU1xk1"
      },
      "source": [
        "train.head(10)"
      ],
      "execution_count": null,
      "outputs": []
    },
    {
      "cell_type": "markdown",
      "metadata": {
        "id": "I2U8fytC18R6"
      },
      "source": [
        "#**Show Shape**"
      ]
    },
    {
      "cell_type": "code",
      "metadata": {
        "id": "VD8pjnE21-_e"
      },
      "source": [
        "train.shape"
      ],
      "execution_count": null,
      "outputs": []
    },
    {
      "cell_type": "markdown",
      "metadata": {
        "id": "ZbA-vvRz2HP9"
      },
      "source": [
        "#**Show All Information with missing Value**"
      ]
    },
    {
      "cell_type": "code",
      "metadata": {
        "id": "St69VVaa2J01"
      },
      "source": [
        "train.info()"
      ],
      "execution_count": null,
      "outputs": []
    },
    {
      "cell_type": "markdown",
      "metadata": {
        "id": "VcsPOJTp2aUW"
      },
      "source": [
        "#**Import library for data visualization**"
      ]
    },
    {
      "cell_type": "code",
      "metadata": {
        "id": "d-WBpnpx2c2t"
      },
      "source": [
        "import matplotlib.pyplot as plt\n",
        "%matplotlib inline\n",
        "import seaborn as sns\n",
        "sns.set()"
      ],
      "execution_count": null,
      "outputs": []
    },
    {
      "cell_type": "markdown",
      "metadata": {
        "id": "hCaeLvE825R1"
      },
      "source": [
        "#**Find Title from Name Column**"
      ]
    },
    {
      "cell_type": "code",
      "metadata": {
        "id": "2C2K3P8927rI"
      },
      "source": [
        "train['rate_date'].value_counts()"
      ],
      "execution_count": null,
      "outputs": []
    },
    {
      "cell_type": "code",
      "metadata": {
        "id": "o1D7tENA30i2"
      },
      "source": [
        "train.head()"
      ],
      "execution_count": null,
      "outputs": []
    },
    {
      "cell_type": "code",
      "metadata": {
        "id": "1enroPHG4vxu"
      },
      "source": [
        "train['nations'].value_counts()"
      ],
      "execution_count": null,
      "outputs": []
    },
    {
      "cell_type": "markdown",
      "metadata": {
        "id": "39xo4_P234I3"
      },
      "source": [
        "#**Mapping Nations Attribute**"
      ]
    },
    {
      "cell_type": "code",
      "metadata": {
        "id": "jzI5rHJ_76X3"
      },
      "source": [
        "train_test_data = [train]"
      ],
      "execution_count": null,
      "outputs": []
    },
    {
      "cell_type": "code",
      "metadata": {
        "id": "qCkh4s5Y5sgX"
      },
      "source": [
        "nation_mapping = {\"ENG\": 0, \"AUS\": 1, \"WI\": 2, \"IND\": 3, \"NZ\": 4, \"PAK\": 5, \"SA\": 6, \"SL\": 7, \"ZIM\": 8, \"BAN\": 9}"
      ],
      "execution_count": null,
      "outputs": []
    },
    {
      "cell_type": "code",
      "metadata": {
        "id": "kqMoxYzl5xK-"
      },
      "source": [
        "for dataset in train_test_data:\n",
        "    dataset['nations'] = dataset['nations'].map(nation_mapping)"
      ],
      "execution_count": null,
      "outputs": []
    },
    {
      "cell_type": "code",
      "metadata": {
        "id": "7NARb0-f7-4u"
      },
      "source": [
        "train.head()"
      ],
      "execution_count": null,
      "outputs": []
    },
    {
      "cell_type": "markdown",
      "metadata": {
        "id": "ptBTp1gQ-JZl"
      },
      "source": [
        "#**Ratting Attribute**"
      ]
    },
    {
      "cell_type": "code",
      "metadata": {
        "id": "lTUrgwrJ_zRU"
      },
      "source": [
        "train['rating'].value_counts()"
      ],
      "execution_count": null,
      "outputs": []
    },
    {
      "cell_type": "code",
      "metadata": {
        "id": "uCNyDunrBPGs"
      },
      "source": [
        "for dataset in train_test_data:\n",
        "    dataset.loc[ dataset['rating'] <= 99, 'rating'] = 0\n",
        "    dataset.loc[(dataset['rating'] > 99) & (dataset['rating'] <= 199), 'rating'] = 1\n",
        "    dataset.loc[(dataset['rating'] > 199) & (dataset['rating'] <= 299), 'rating'] = 2\n",
        "    dataset.loc[(dataset['rating'] > 299) & (dataset['rating'] <= 399), 'rating'] = 3\n",
        "    dataset.loc[(dataset['rating'] > 399) & (dataset['rating'] <= 499), 'rating'] = 4\n",
        "    dataset.loc[ dataset['rating'] > 499, 'rating'] = 5"
      ],
      "execution_count": null,
      "outputs": []
    },
    {
      "cell_type": "code",
      "metadata": {
        "id": "wM1sQzM2BwEE"
      },
      "source": [
        "train.head()"
      ],
      "execution_count": null,
      "outputs": []
    },
    {
      "cell_type": "markdown",
      "metadata": {
        "id": "OY3LnS-WY8KX"
      },
      "source": [
        "#**Rate_Date**"
      ]
    },
    {
      "cell_type": "code",
      "metadata": {
        "id": "VvUkyw6SzzvR"
      },
      "source": [
        "import re"
      ],
      "execution_count": null,
      "outputs": []
    },
    {
      "cell_type": "code",
      "metadata": {
        "id": "FkCoa6IUhYIt"
      },
      "source": [
        "train.info()"
      ],
      "execution_count": null,
      "outputs": []
    },
    {
      "cell_type": "code",
      "metadata": {
        "id": "ZdqVD9f_dOR9"
      },
      "source": [
        "train['Date'] = None\n",
        "train"
      ],
      "execution_count": null,
      "outputs": []
    },
    {
      "cell_type": "code",
      "metadata": {
        "id": "le_gZv3VxzXj"
      },
      "source": [
        "index_rate_date = train.columns.get_loc('rate_date')\n",
        "index_date = train.columns.get_loc('Date')\n",
        "\n",
        "print(index_rate_date, index_date)"
      ],
      "execution_count": null,
      "outputs": []
    },
    {
      "cell_type": "code",
      "metadata": {
        "id": "8WZu_c67zFZA"
      },
      "source": [
        "date_pattern = r'([0-9]{4})'"
      ],
      "execution_count": null,
      "outputs": []
    },
    {
      "cell_type": "code",
      "metadata": {
        "id": "cEq9L8aKz4RJ"
      },
      "source": [
        "for row in range(0, len(train)):\n",
        "  date = re.search(date_pattern, train.iat[row, index_rate_date]).group()\n",
        "  train.iat[row, index_date] = date\n",
        "  \n",
        "train"
      ],
      "execution_count": null,
      "outputs": []
    },
    {
      "cell_type": "code",
      "metadata": {
        "id": "I9_jiZiMjK0P"
      },
      "source": [
        "train.head()"
      ],
      "execution_count": null,
      "outputs": []
    },
    {
      "cell_type": "code",
      "metadata": {
        "id": "C7AGPPzfAZAp"
      },
      "source": [
        "\n",
        "train['Date'] = train['Date'].astype(int)"
      ],
      "execution_count": null,
      "outputs": []
    },
    {
      "cell_type": "code",
      "metadata": {
        "id": "U8ZCk2sWnQAi"
      },
      "source": [
        "for dataset in train_test_data:\n",
        "    dataset.loc[ dataset['Date'] <= 1899, 'Date'] = 0\n",
        "    dataset.loc[(dataset['Date'] > 1899) & (dataset['Date'] <= 1999), 'Date'] = 1\n",
        "    dataset.loc[ dataset['Date'] > 1999, 'Date'] = 2"
      ],
      "execution_count": null,
      "outputs": []
    },
    {
      "cell_type": "code",
      "metadata": {
        "id": "2ly9hvXZD9b8"
      },
      "source": [
        "train"
      ],
      "execution_count": null,
      "outputs": []
    },
    {
      "cell_type": "code",
      "metadata": {
        "id": "hn3aEHD9A4In"
      },
      "source": [
        "train.info()"
      ],
      "execution_count": null,
      "outputs": []
    },
    {
      "cell_type": "code",
      "metadata": {
        "id": "NGC9nBQUrSa2"
      },
      "source": [
        "features_drop = ['name', 'rate_date']\n",
        "train = train.drop(features_drop, axis=1)"
      ],
      "execution_count": null,
      "outputs": []
    },
    {
      "cell_type": "code",
      "metadata": {
        "id": "666r4m5ICCF7"
      },
      "source": [
        "x = train.drop(['rank'],axis=1)"
      ],
      "execution_count": null,
      "outputs": []
    },
    {
      "cell_type": "code",
      "metadata": {
        "id": "Go47hT9QCjdj"
      },
      "source": [
        "y=train['rank']"
      ],
      "execution_count": null,
      "outputs": []
    },
    {
      "cell_type": "code",
      "metadata": {
        "id": "ftfSXaB2Ngga"
      },
      "source": [
        "train.info()"
      ],
      "execution_count": null,
      "outputs": []
    },
    {
      "cell_type": "code",
      "metadata": {
        "id": "kdw8NecUN3Yk"
      },
      "source": [
        "train.head()"
      ],
      "execution_count": null,
      "outputs": []
    },
    {
      "cell_type": "code",
      "metadata": {
        "id": "tTOfGS7-CtoH"
      },
      "source": [
        "x.shape, y.shape"
      ],
      "execution_count": null,
      "outputs": []
    },
    {
      "cell_type": "markdown",
      "metadata": {
        "id": "FRO-9EWfEtmC"
      },
      "source": [
        "#**Splitting the dataset into train and test data**"
      ]
    },
    {
      "cell_type": "code",
      "metadata": {
        "id": "Fd6H15w0DFj7"
      },
      "source": [
        "from sklearn.model_selection import train_test_split\n",
        "X_train, X_test, y_train, y_test = train_test_split(x, y, test_size=.30, random_state=42)\n",
        "print(\"X_train: \",X_train.shape)\n",
        "print(\"X_test: \", X_test.shape)\n",
        "print(\"y_train: \", y_train.shape)\n",
        "print(\"y_test: \", y_test.shape)\n",
        "print(y_test)\n",
        "\n",
        "y_test.value_counts()"
      ],
      "execution_count": null,
      "outputs": []
    },
    {
      "cell_type": "markdown",
      "metadata": {
        "id": "Bs7ayXtAEy82"
      },
      "source": [
        "#**Train the dataset**"
      ]
    },
    {
      "cell_type": "code",
      "metadata": {
        "id": "-uKoc1dsE3oj"
      },
      "source": [
        "from sklearn.tree import DecisionTreeClassifier\n",
        "from sklearn.ensemble import RandomForestClassifier\n",
        "\n",
        "dt = DecisionTreeClassifier()\n",
        "dt.fit(X_train, y_train)\n",
        "y_pred = dt.predict(X_test)"
      ],
      "execution_count": null,
      "outputs": []
    },
    {
      "cell_type": "markdown",
      "metadata": {
        "id": "MnWFihB5E9nK"
      },
      "source": [
        "#**Performance evaluation**"
      ]
    },
    {
      "cell_type": "code",
      "metadata": {
        "id": "1qkEjBGzFBje"
      },
      "source": [
        "from sklearn.metrics import confusion_matrix,classification_report\n",
        "print(confusion_matrix(y_test, y_pred))\n",
        "print(classification_report(y_test,y_pred))"
      ],
      "execution_count": null,
      "outputs": []
    },
    {
      "cell_type": "markdown",
      "metadata": {
        "id": "y6yJ-iBSFME0"
      },
      "source": [
        "#**Calculating accuracy**"
      ]
    },
    {
      "cell_type": "code",
      "metadata": {
        "id": "e3QL4_kiFOEF"
      },
      "source": [
        "\n",
        "from sklearn.metrics import accuracy_score\n",
        "print(accuracy_score(y_test, y_pred))"
      ],
      "execution_count": null,
      "outputs": []
    },
    {
      "cell_type": "markdown",
      "metadata": {
        "id": "KWAUX7wn6_3j"
      },
      "source": [
        "#**Random Forest Classifier**"
      ]
    },
    {
      "cell_type": "code",
      "metadata": {
        "id": "m32odI2S0wWL"
      },
      "source": [
        "from sklearn.ensemble import RandomForestClassifier\n",
        "\n",
        "rf = RandomForestClassifier()\n",
        "rf.fit(X_train, y_train)\n",
        "y_pred = rf.predict(X_test)"
      ],
      "execution_count": null,
      "outputs": []
    },
    {
      "cell_type": "code",
      "metadata": {
        "id": "kZhpdFm64ChL"
      },
      "source": [
        "from sklearn.metrics import confusion_matrix,classification_report\n",
        "print(confusion_matrix(y_test, y_pred))\n",
        "print(classification_report(y_test,y_pred))"
      ],
      "execution_count": null,
      "outputs": []
    },
    {
      "cell_type": "code",
      "metadata": {
        "id": "l5rjoJUD4KNh"
      },
      "source": [
        "from sklearn.metrics import accuracy_score\n",
        "score_rf = accuracy_score(y_test, y_pred)\n",
        "print(score_rf)"
      ],
      "execution_count": null,
      "outputs": []
    },
    {
      "cell_type": "markdown",
      "metadata": {
        "id": "Ki8soa907gbj"
      },
      "source": [
        "#**Linear Regression**"
      ]
    },
    {
      "cell_type": "code",
      "metadata": {
        "id": "q30E3U735he5"
      },
      "source": [
        "from sklearn.linear_model import LinearRegression\n",
        "lr = LinearRegression()\n",
        "lr.fit(X_train, y_train)\n",
        "y_pred = rf.predict(X_test)"
      ],
      "execution_count": null,
      "outputs": []
    },
    {
      "cell_type": "code",
      "metadata": {
        "id": "mHr1oeuY6Bwy"
      },
      "source": [
        "from sklearn.metrics import confusion_matrix,classification_report\n",
        "print(confusion_matrix(y_test, y_pred))\n",
        "print(classification_report(y_test,y_pred))"
      ],
      "execution_count": null,
      "outputs": []
    },
    {
      "cell_type": "code",
      "metadata": {
        "id": "L6x3-uLH6mK5"
      },
      "source": [
        "from sklearn.metrics import accuracy_score\n",
        "score_lr = accuracy_score(y_test, y_pred)\n",
        "print(score_lr)"
      ],
      "execution_count": null,
      "outputs": []
    }
  ]
}